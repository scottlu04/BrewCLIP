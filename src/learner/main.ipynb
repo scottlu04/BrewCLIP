{
 "cells": [
  {
   "cell_type": "code",
   "execution_count": 3,
   "id": "338ec8bb",
   "metadata": {},
   "outputs": [
    {
     "name": "stderr",
     "output_type": "stream",
     "text": [
      "/home/luzhenyu/.local/lib/python3.8/site-packages/tqdm/auto.py:21: TqdmWarning: IProgress not found. Please update jupyter and ipywidgets. See https://ipywidgets.readthedocs.io/en/stable/user_install.html\n",
      "  from .autonotebook import tqdm as notebook_tqdm\n"
     ]
    },
    {
     "ename": "ModuleNotFoundError",
     "evalue": "No module named 'filelock'",
     "output_type": "error",
     "traceback": [
      "\u001b[0;31m---------------------------------------------------------------------------\u001b[0m",
      "\u001b[0;31mModuleNotFoundError\u001b[0m                       Traceback (most recent call last)",
      "Cell \u001b[0;32mIn[3], line 4\u001b[0m\n\u001b[1;32m      2\u001b[0m \u001b[39mfrom\u001b[39;00m \u001b[39mtqdm\u001b[39;00m \u001b[39mimport\u001b[39;00m tqdm\n\u001b[1;32m      3\u001b[0m sys\u001b[39m.\u001b[39mpath\u001b[39m.\u001b[39mappend(\u001b[39m'\u001b[39m\u001b[39m..\u001b[39m\u001b[39m'\u001b[39m);\n\u001b[0;32m----> 4\u001b[0m \u001b[39mfrom\u001b[39;00m \u001b[39mmodel\u001b[39;00m \u001b[39mimport\u001b[39;00m \u001b[39m*\u001b[39m\n",
      "File \u001b[0;32m~/mmml-audio-retrieval/aud_img_retrieval/src/learner/../model/__init__.py:1\u001b[0m\n\u001b[0;32m----> 1\u001b[0m \u001b[39mfrom\u001b[39;00m \u001b[39m.\u001b[39;00m\u001b[39mbase\u001b[39;00m \u001b[39mimport\u001b[39;00m \u001b[39m*\u001b[39m\n\u001b[1;32m      2\u001b[0m \u001b[39mfrom\u001b[39;00m \u001b[39m.\u001b[39;00m\u001b[39mE2E\u001b[39;00m \u001b[39mimport\u001b[39;00m \u001b[39m*\u001b[39m\n\u001b[1;32m      3\u001b[0m \u001b[39mfrom\u001b[39;00m \u001b[39m.\u001b[39;00m\u001b[39mASR_model\u001b[39;00m \u001b[39mimport\u001b[39;00m \u001b[39m*\u001b[39m\n",
      "File \u001b[0;32m~/mmml-audio-retrieval/aud_img_retrieval/src/learner/../model/base.py:12\u001b[0m\n\u001b[1;32m     10\u001b[0m \u001b[39mimport\u001b[39;00m \u001b[39mtorch\u001b[39;00m\n\u001b[1;32m     11\u001b[0m \u001b[39mimport\u001b[39;00m \u001b[39mtqdm\u001b[39;00m\n\u001b[0;32m---> 12\u001b[0m \u001b[39mimport\u001b[39;00m \u001b[39mpytorch_lightning\u001b[39;00m \u001b[39mas\u001b[39;00m \u001b[39mpl\u001b[39;00m\n\u001b[1;32m     13\u001b[0m \u001b[39mfrom\u001b[39;00m \u001b[39mpytorch_lightning\u001b[39;00m\u001b[39m.\u001b[39;00m\u001b[39mloggers\u001b[39;00m \u001b[39mimport\u001b[39;00m TensorBoardLogger\n\u001b[1;32m     14\u001b[0m \u001b[39mfrom\u001b[39;00m \u001b[39mpytorch_lightning\u001b[39;00m\u001b[39m.\u001b[39;00m\u001b[39mloggers\u001b[39;00m\u001b[39m.\u001b[39;00m\u001b[39mwandb\u001b[39;00m \u001b[39mimport\u001b[39;00m WandbLogger\n",
      "File \u001b[0;32m~/.local/lib/python3.8/site-packages/pytorch_lightning/__init__.py:20\u001b[0m\n\u001b[1;32m     17\u001b[0m _PACKAGE_ROOT \u001b[39m=\u001b[39m os\u001b[39m.\u001b[39mpath\u001b[39m.\u001b[39mdirname(\u001b[39m__file__\u001b[39m)\n\u001b[1;32m     18\u001b[0m _PROJECT_ROOT \u001b[39m=\u001b[39m os\u001b[39m.\u001b[39mpath\u001b[39m.\u001b[39mdirname(_PACKAGE_ROOT)\n\u001b[0;32m---> 20\u001b[0m \u001b[39mfrom\u001b[39;00m \u001b[39mpytorch_lightning\u001b[39;00m\u001b[39m.\u001b[39;00m\u001b[39mcallbacks\u001b[39;00m \u001b[39mimport\u001b[39;00m Callback  \u001b[39m# noqa: E402\u001b[39;00m\n\u001b[1;32m     21\u001b[0m \u001b[39mfrom\u001b[39;00m \u001b[39mpytorch_lightning\u001b[39;00m\u001b[39m.\u001b[39;00m\u001b[39mcore\u001b[39;00m \u001b[39mimport\u001b[39;00m LightningDataModule, LightningModule  \u001b[39m# noqa: E402\u001b[39;00m\n\u001b[1;32m     22\u001b[0m \u001b[39mfrom\u001b[39;00m \u001b[39mpytorch_lightning\u001b[39;00m\u001b[39m.\u001b[39;00m\u001b[39mtrainer\u001b[39;00m \u001b[39mimport\u001b[39;00m Trainer  \u001b[39m# noqa: E402\u001b[39;00m\n",
      "File \u001b[0;32m~/.local/lib/python3.8/site-packages/pytorch_lightning/callbacks/__init__.py:14\u001b[0m\n\u001b[1;32m      1\u001b[0m \u001b[39m# Copyright The PyTorch Lightning team.\u001b[39;00m\n\u001b[1;32m      2\u001b[0m \u001b[39m#\u001b[39;00m\n\u001b[1;32m      3\u001b[0m \u001b[39m# Licensed under the Apache License, Version 2.0 (the \"License\");\u001b[39;00m\n\u001b[0;32m   (...)\u001b[0m\n\u001b[1;32m     12\u001b[0m \u001b[39m# See the License for the specific language governing permissions and\u001b[39;00m\n\u001b[1;32m     13\u001b[0m \u001b[39m# limitations under the License.\u001b[39;00m\n\u001b[0;32m---> 14\u001b[0m \u001b[39mfrom\u001b[39;00m \u001b[39mpytorch_lightning\u001b[39;00m\u001b[39m.\u001b[39;00m\u001b[39mcallbacks\u001b[39;00m\u001b[39m.\u001b[39;00m\u001b[39mbase\u001b[39;00m \u001b[39mimport\u001b[39;00m Callback\n\u001b[1;32m     15\u001b[0m \u001b[39mfrom\u001b[39;00m \u001b[39mpytorch_lightning\u001b[39;00m\u001b[39m.\u001b[39;00m\u001b[39mcallbacks\u001b[39;00m\u001b[39m.\u001b[39;00m\u001b[39mdevice_stats_monitor\u001b[39;00m \u001b[39mimport\u001b[39;00m DeviceStatsMonitor\n\u001b[1;32m     16\u001b[0m \u001b[39mfrom\u001b[39;00m \u001b[39mpytorch_lightning\u001b[39;00m\u001b[39m.\u001b[39;00m\u001b[39mcallbacks\u001b[39;00m\u001b[39m.\u001b[39;00m\u001b[39mearly_stopping\u001b[39;00m \u001b[39mimport\u001b[39;00m EarlyStopping\n",
      "File \u001b[0;32m~/.local/lib/python3.8/site-packages/pytorch_lightning/callbacks/base.py:26\u001b[0m\n\u001b[1;32m     23\u001b[0m \u001b[39mfrom\u001b[39;00m \u001b[39mtorch\u001b[39;00m\u001b[39m.\u001b[39;00m\u001b[39moptim\u001b[39;00m \u001b[39mimport\u001b[39;00m Optimizer\n\u001b[1;32m     25\u001b[0m \u001b[39mimport\u001b[39;00m \u001b[39mpytorch_lightning\u001b[39;00m \u001b[39mas\u001b[39;00m \u001b[39mpl\u001b[39;00m\n\u001b[0;32m---> 26\u001b[0m \u001b[39mfrom\u001b[39;00m \u001b[39mpytorch_lightning\u001b[39;00m\u001b[39m.\u001b[39;00m\u001b[39mutilities\u001b[39;00m\u001b[39m.\u001b[39;00m\u001b[39mtypes\u001b[39;00m \u001b[39mimport\u001b[39;00m STEP_OUTPUT\n\u001b[1;32m     29\u001b[0m \u001b[39mclass\u001b[39;00m \u001b[39mCallback\u001b[39;00m(abc\u001b[39m.\u001b[39mABC):\n\u001b[1;32m     30\u001b[0m     \u001b[39mr\u001b[39m\u001b[39m\"\"\"\u001b[39;00m\n\u001b[1;32m     31\u001b[0m \u001b[39m    Abstract base class used to build new callbacks.\u001b[39;00m\n\u001b[1;32m     32\u001b[0m \n\u001b[1;32m     33\u001b[0m \u001b[39m    Subclass this class and override any of the relevant hooks\u001b[39;00m\n\u001b[1;32m     34\u001b[0m \u001b[39m    \"\"\"\u001b[39;00m\n",
      "File \u001b[0;32m~/.local/lib/python3.8/site-packages/pytorch_lightning/utilities/types.py:25\u001b[0m\n\u001b[1;32m     23\u001b[0m \u001b[39mfrom\u001b[39;00m \u001b[39mtorch\u001b[39;00m\u001b[39m.\u001b[39;00m\u001b[39moptim\u001b[39;00m\u001b[39m.\u001b[39;00m\u001b[39mlr_scheduler\u001b[39;00m \u001b[39mimport\u001b[39;00m _LRScheduler, ReduceLROnPlateau\n\u001b[1;32m     24\u001b[0m \u001b[39mfrom\u001b[39;00m \u001b[39mtorch\u001b[39;00m\u001b[39m.\u001b[39;00m\u001b[39mutils\u001b[39;00m\u001b[39m.\u001b[39;00m\u001b[39mdata\u001b[39;00m \u001b[39mimport\u001b[39;00m DataLoader\n\u001b[0;32m---> 25\u001b[0m \u001b[39mfrom\u001b[39;00m \u001b[39mtorchmetrics\u001b[39;00m \u001b[39mimport\u001b[39;00m Metric\n\u001b[1;32m     27\u001b[0m _NUMBER \u001b[39m=\u001b[39m Union[\u001b[39mint\u001b[39m, \u001b[39mfloat\u001b[39m]\n\u001b[1;32m     28\u001b[0m _METRIC \u001b[39m=\u001b[39m Union[Metric, torch\u001b[39m.\u001b[39mTensor, _NUMBER]\n",
      "File \u001b[0;32m~/.local/lib/python3.8/site-packages/torchmetrics/__init__.py:14\u001b[0m\n\u001b[1;32m     11\u001b[0m _PACKAGE_ROOT \u001b[39m=\u001b[39m os\u001b[39m.\u001b[39mpath\u001b[39m.\u001b[39mdirname(\u001b[39m__file__\u001b[39m)\n\u001b[1;32m     12\u001b[0m _PROJECT_ROOT \u001b[39m=\u001b[39m os\u001b[39m.\u001b[39mpath\u001b[39m.\u001b[39mdirname(_PACKAGE_ROOT)\n\u001b[0;32m---> 14\u001b[0m \u001b[39mfrom\u001b[39;00m \u001b[39mtorchmetrics\u001b[39;00m \u001b[39mimport\u001b[39;00m functional  \u001b[39m# noqa: E402\u001b[39;00m\n\u001b[1;32m     15\u001b[0m \u001b[39mfrom\u001b[39;00m \u001b[39mtorchmetrics\u001b[39;00m\u001b[39m.\u001b[39;00m\u001b[39maggregation\u001b[39;00m \u001b[39mimport\u001b[39;00m CatMetric, MaxMetric, MeanMetric, MinMetric, SumMetric  \u001b[39m# noqa: E402\u001b[39;00m\n\u001b[1;32m     16\u001b[0m \u001b[39mfrom\u001b[39;00m \u001b[39mtorchmetrics\u001b[39;00m\u001b[39m.\u001b[39;00m\u001b[39maudio\u001b[39;00m \u001b[39mimport\u001b[39;00m (  \u001b[39m# noqa: E402\u001b[39;00m\n\u001b[1;32m     17\u001b[0m     PermutationInvariantTraining,\n\u001b[1;32m     18\u001b[0m     ScaleInvariantSignalDistortionRatio,\n\u001b[0;32m   (...)\u001b[0m\n\u001b[1;32m     21\u001b[0m     SignalNoiseRatio,\n\u001b[1;32m     22\u001b[0m )\n",
      "File \u001b[0;32m~/.local/lib/python3.8/site-packages/torchmetrics/functional/__init__.py:82\u001b[0m\n\u001b[1;32m     80\u001b[0m \u001b[39mfrom\u001b[39;00m \u001b[39mtorchmetrics\u001b[39;00m\u001b[39m.\u001b[39;00m\u001b[39mfunctional\u001b[39;00m\u001b[39m.\u001b[39;00m\u001b[39mretrieval\u001b[39;00m\u001b[39m.\u001b[39;00m\u001b[39mrecall\u001b[39;00m \u001b[39mimport\u001b[39;00m retrieval_recall\n\u001b[1;32m     81\u001b[0m \u001b[39mfrom\u001b[39;00m \u001b[39mtorchmetrics\u001b[39;00m\u001b[39m.\u001b[39;00m\u001b[39mfunctional\u001b[39;00m\u001b[39m.\u001b[39;00m\u001b[39mretrieval\u001b[39;00m\u001b[39m.\u001b[39;00m\u001b[39mreciprocal_rank\u001b[39;00m \u001b[39mimport\u001b[39;00m retrieval_reciprocal_rank\n\u001b[0;32m---> 82\u001b[0m \u001b[39mfrom\u001b[39;00m \u001b[39mtorchmetrics\u001b[39;00m\u001b[39m.\u001b[39;00m\u001b[39mfunctional\u001b[39;00m\u001b[39m.\u001b[39;00m\u001b[39mtext\u001b[39;00m\u001b[39m.\u001b[39;00m\u001b[39mbleu\u001b[39;00m \u001b[39mimport\u001b[39;00m bleu_score\n\u001b[1;32m     83\u001b[0m \u001b[39mfrom\u001b[39;00m \u001b[39mtorchmetrics\u001b[39;00m\u001b[39m.\u001b[39;00m\u001b[39mfunctional\u001b[39;00m\u001b[39m.\u001b[39;00m\u001b[39mtext\u001b[39;00m\u001b[39m.\u001b[39;00m\u001b[39mcer\u001b[39;00m \u001b[39mimport\u001b[39;00m char_error_rate\n\u001b[1;32m     84\u001b[0m \u001b[39mfrom\u001b[39;00m \u001b[39mtorchmetrics\u001b[39;00m\u001b[39m.\u001b[39;00m\u001b[39mfunctional\u001b[39;00m\u001b[39m.\u001b[39;00m\u001b[39mtext\u001b[39;00m\u001b[39m.\u001b[39;00m\u001b[39mchrf\u001b[39;00m \u001b[39mimport\u001b[39;00m chrf_score\n",
      "File \u001b[0;32m~/.local/lib/python3.8/site-packages/torchmetrics/functional/text/__init__.py:30\u001b[0m\n\u001b[1;32m     27\u001b[0m \u001b[39mfrom\u001b[39;00m \u001b[39mtorchmetrics\u001b[39;00m\u001b[39m.\u001b[39;00m\u001b[39mutilities\u001b[39;00m\u001b[39m.\u001b[39;00m\u001b[39mimports\u001b[39;00m \u001b[39mimport\u001b[39;00m _NLTK_AVAILABLE, _TRANSFORMERS_AVAILABLE\n\u001b[1;32m     29\u001b[0m \u001b[39mif\u001b[39;00m _TRANSFORMERS_AVAILABLE:\n\u001b[0;32m---> 30\u001b[0m     \u001b[39mfrom\u001b[39;00m \u001b[39mtorchmetrics\u001b[39;00m\u001b[39m.\u001b[39;00m\u001b[39mfunctional\u001b[39;00m\u001b[39m.\u001b[39;00m\u001b[39mtext\u001b[39;00m\u001b[39m.\u001b[39;00m\u001b[39mbert\u001b[39;00m \u001b[39mimport\u001b[39;00m bert_score  \u001b[39m# noqa: F401\u001b[39;00m\n\u001b[1;32m     31\u001b[0m     \u001b[39mfrom\u001b[39;00m \u001b[39mtorchmetrics\u001b[39;00m\u001b[39m.\u001b[39;00m\u001b[39mfunctional\u001b[39;00m\u001b[39m.\u001b[39;00m\u001b[39mtext\u001b[39;00m\u001b[39m.\u001b[39;00m\u001b[39minfolm\u001b[39;00m \u001b[39mimport\u001b[39;00m infolm  \u001b[39m# noqa: F401\u001b[39;00m\n\u001b[1;32m     33\u001b[0m \u001b[39mif\u001b[39;00m _NLTK_AVAILABLE:\n",
      "File \u001b[0;32m~/.local/lib/python3.8/site-packages/torchmetrics/functional/text/bert.py:24\u001b[0m\n\u001b[1;32m     21\u001b[0m \u001b[39mfrom\u001b[39;00m \u001b[39mtorch\u001b[39;00m\u001b[39m.\u001b[39;00m\u001b[39mnn\u001b[39;00m \u001b[39mimport\u001b[39;00m Module\n\u001b[1;32m     22\u001b[0m \u001b[39mfrom\u001b[39;00m \u001b[39mtorch\u001b[39;00m\u001b[39m.\u001b[39;00m\u001b[39mutils\u001b[39;00m\u001b[39m.\u001b[39;00m\u001b[39mdata\u001b[39;00m \u001b[39mimport\u001b[39;00m DataLoader\n\u001b[0;32m---> 24\u001b[0m \u001b[39mfrom\u001b[39;00m \u001b[39mtorchmetrics\u001b[39;00m\u001b[39m.\u001b[39;00m\u001b[39mfunctional\u001b[39;00m\u001b[39m.\u001b[39;00m\u001b[39mtext\u001b[39;00m\u001b[39m.\u001b[39;00m\u001b[39mhelper_embedding_metric\u001b[39;00m \u001b[39mimport\u001b[39;00m (\n\u001b[1;32m     25\u001b[0m     TextDataset,\n\u001b[1;32m     26\u001b[0m     TokenizedDataset,\n\u001b[1;32m     27\u001b[0m     _check_shape_of_model_output,\n\u001b[1;32m     28\u001b[0m     _get_progress_bar,\n\u001b[1;32m     29\u001b[0m     _input_data_collator,\n\u001b[1;32m     30\u001b[0m     _output_data_collator,\n\u001b[1;32m     31\u001b[0m     _process_attention_mask_for_special_tokens,\n\u001b[1;32m     32\u001b[0m )\n\u001b[1;32m     33\u001b[0m \u001b[39mfrom\u001b[39;00m \u001b[39mtorchmetrics\u001b[39;00m\u001b[39m.\u001b[39;00m\u001b[39mutilities\u001b[39;00m\u001b[39m.\u001b[39;00m\u001b[39mimports\u001b[39;00m \u001b[39mimport\u001b[39;00m _TQDM_AVAILABLE, _TRANSFORMERS_AVAILABLE\n\u001b[1;32m     35\u001b[0m \u001b[39mif\u001b[39;00m _TRANSFORMERS_AVAILABLE:\n",
      "File \u001b[0;32m~/.local/lib/python3.8/site-packages/torchmetrics/functional/text/helper_embedding_metric.py:26\u001b[0m\n\u001b[1;32m     23\u001b[0m \u001b[39mfrom\u001b[39;00m \u001b[39mtorchmetrics\u001b[39;00m\u001b[39m.\u001b[39;00m\u001b[39mutilities\u001b[39;00m\u001b[39m.\u001b[39;00m\u001b[39mimports\u001b[39;00m \u001b[39mimport\u001b[39;00m _TQDM_AVAILABLE, _TRANSFORMERS_AVAILABLE\n\u001b[1;32m     25\u001b[0m \u001b[39mif\u001b[39;00m _TRANSFORMERS_AVAILABLE:\n\u001b[0;32m---> 26\u001b[0m     \u001b[39mfrom\u001b[39;00m \u001b[39mtransformers\u001b[39;00m \u001b[39mimport\u001b[39;00m AutoModelForMaskedLM, AutoTokenizer, PreTrainedModel, PreTrainedTokenizerBase\n\u001b[1;32m     27\u001b[0m \u001b[39melse\u001b[39;00m:\n\u001b[1;32m     28\u001b[0m     PreTrainedModel \u001b[39m=\u001b[39m PreTrainedTokenizerBase \u001b[39m=\u001b[39m \u001b[39mNone\u001b[39;00m  \u001b[39m# type: ignore\u001b[39;00m\n",
      "File \u001b[0;32m~/.local/lib/python3.8/site-packages/transformers/__init__.py:26\u001b[0m\n\u001b[1;32m     23\u001b[0m \u001b[39mfrom\u001b[39;00m \u001b[39mtyping\u001b[39;00m \u001b[39mimport\u001b[39;00m TYPE_CHECKING\n\u001b[1;32m     25\u001b[0m \u001b[39m# Check the dependencies satisfy the minimal versions required.\u001b[39;00m\n\u001b[0;32m---> 26\u001b[0m \u001b[39mfrom\u001b[39;00m \u001b[39m.\u001b[39;00m \u001b[39mimport\u001b[39;00m dependency_versions_check\n\u001b[1;32m     27\u001b[0m \u001b[39mfrom\u001b[39;00m \u001b[39m.\u001b[39;00m\u001b[39mutils\u001b[39;00m \u001b[39mimport\u001b[39;00m (\n\u001b[1;32m     28\u001b[0m     OptionalDependencyNotAvailable,\n\u001b[1;32m     29\u001b[0m     _LazyModule,\n\u001b[0;32m   (...)\u001b[0m\n\u001b[1;32m     42\u001b[0m     logging,\n\u001b[1;32m     43\u001b[0m )\n\u001b[1;32m     46\u001b[0m logger \u001b[39m=\u001b[39m logging\u001b[39m.\u001b[39mget_logger(\u001b[39m__name__\u001b[39m)  \u001b[39m# pylint: disable=invalid-name\u001b[39;00m\n",
      "File \u001b[0;32m~/.local/lib/python3.8/site-packages/transformers/dependency_versions_check.py:17\u001b[0m\n\u001b[1;32m     14\u001b[0m \u001b[39mimport\u001b[39;00m \u001b[39msys\u001b[39;00m\n\u001b[1;32m     16\u001b[0m \u001b[39mfrom\u001b[39;00m \u001b[39m.\u001b[39;00m\u001b[39mdependency_versions_table\u001b[39;00m \u001b[39mimport\u001b[39;00m deps\n\u001b[0;32m---> 17\u001b[0m \u001b[39mfrom\u001b[39;00m \u001b[39m.\u001b[39;00m\u001b[39mutils\u001b[39;00m\u001b[39m.\u001b[39;00m\u001b[39mversions\u001b[39;00m \u001b[39mimport\u001b[39;00m require_version, require_version_core\n\u001b[1;32m     20\u001b[0m \u001b[39m# define which module versions we always want to check at run time\u001b[39;00m\n\u001b[1;32m     21\u001b[0m \u001b[39m# (usually the ones defined in `install_requires` in setup.py)\u001b[39;00m\n\u001b[1;32m     22\u001b[0m \u001b[39m#\u001b[39;00m\n\u001b[1;32m     23\u001b[0m \u001b[39m# order specific notes:\u001b[39;00m\n\u001b[1;32m     24\u001b[0m \u001b[39m# - tqdm must be checked before tokenizers\u001b[39;00m\n\u001b[1;32m     26\u001b[0m pkgs_to_check_at_runtime \u001b[39m=\u001b[39m \u001b[39m\"\u001b[39m\u001b[39mpython tqdm regex requests packaging filelock numpy tokenizers\u001b[39m\u001b[39m\"\u001b[39m\u001b[39m.\u001b[39msplit()\n",
      "File \u001b[0;32m~/.local/lib/python3.8/site-packages/transformers/utils/__init__.py:58\u001b[0m\n\u001b[1;32m     22\u001b[0m \u001b[39mfrom\u001b[39;00m \u001b[39m.\u001b[39;00m\u001b[39mdoc\u001b[39;00m \u001b[39mimport\u001b[39;00m (\n\u001b[1;32m     23\u001b[0m     add_code_sample_docstrings,\n\u001b[1;32m     24\u001b[0m     add_end_docstrings,\n\u001b[0;32m   (...)\u001b[0m\n\u001b[1;32m     28\u001b[0m     replace_return_docstrings,\n\u001b[1;32m     29\u001b[0m )\n\u001b[1;32m     30\u001b[0m \u001b[39mfrom\u001b[39;00m \u001b[39m.\u001b[39;00m\u001b[39mgeneric\u001b[39;00m \u001b[39mimport\u001b[39;00m (\n\u001b[1;32m     31\u001b[0m     ContextManagers,\n\u001b[1;32m     32\u001b[0m     ExplicitEnum,\n\u001b[0;32m   (...)\u001b[0m\n\u001b[1;32m     56\u001b[0m     working_or_temp_dir,\n\u001b[1;32m     57\u001b[0m )\n\u001b[0;32m---> 58\u001b[0m \u001b[39mfrom\u001b[39;00m \u001b[39m.\u001b[39;00m\u001b[39mhub\u001b[39;00m \u001b[39mimport\u001b[39;00m (\n\u001b[1;32m     59\u001b[0m     CLOUDFRONT_DISTRIB_PREFIX,\n\u001b[1;32m     60\u001b[0m     DISABLE_TELEMETRY,\n\u001b[1;32m     61\u001b[0m     HF_MODULES_CACHE,\n\u001b[1;32m     62\u001b[0m     HUGGINGFACE_CO_PREFIX,\n\u001b[1;32m     63\u001b[0m     HUGGINGFACE_CO_RESOLVE_ENDPOINT,\n\u001b[1;32m     64\u001b[0m     PYTORCH_PRETRAINED_BERT_CACHE,\n\u001b[1;32m     65\u001b[0m     PYTORCH_TRANSFORMERS_CACHE,\n\u001b[1;32m     66\u001b[0m     S3_BUCKET_PREFIX,\n\u001b[1;32m     67\u001b[0m     TRANSFORMERS_CACHE,\n\u001b[1;32m     68\u001b[0m     TRANSFORMERS_DYNAMIC_MODULE_NAME,\n\u001b[1;32m     69\u001b[0m     EntryNotFoundError,\n\u001b[1;32m     70\u001b[0m     PushToHubMixin,\n\u001b[1;32m     71\u001b[0m     RepositoryNotFoundError,\n\u001b[1;32m     72\u001b[0m     RevisionNotFoundError,\n\u001b[1;32m     73\u001b[0m     cached_file,\n\u001b[1;32m     74\u001b[0m     default_cache_path,\n\u001b[1;32m     75\u001b[0m     define_sagemaker_information,\n\u001b[1;32m     76\u001b[0m     download_url,\n\u001b[1;32m     77\u001b[0m     extract_commit_hash,\n\u001b[1;32m     78\u001b[0m     get_cached_models,\n\u001b[1;32m     79\u001b[0m     get_file_from_repo,\n\u001b[1;32m     80\u001b[0m     get_full_repo_name,\n\u001b[1;32m     81\u001b[0m     has_file,\n\u001b[1;32m     82\u001b[0m     http_user_agent,\n\u001b[1;32m     83\u001b[0m     is_offline_mode,\n\u001b[1;32m     84\u001b[0m     is_remote_url,\n\u001b[1;32m     85\u001b[0m     move_cache,\n\u001b[1;32m     86\u001b[0m     send_example_telemetry,\n\u001b[1;32m     87\u001b[0m     try_to_load_from_cache,\n\u001b[1;32m     88\u001b[0m )\n\u001b[1;32m     89\u001b[0m \u001b[39mfrom\u001b[39;00m \u001b[39m.\u001b[39;00m\u001b[39mimport_utils\u001b[39;00m \u001b[39mimport\u001b[39;00m (\n\u001b[1;32m     90\u001b[0m     ENV_VARS_TRUE_AND_AUTO_VALUES,\n\u001b[1;32m     91\u001b[0m     ENV_VARS_TRUE_VALUES,\n\u001b[0;32m   (...)\u001b[0m\n\u001b[1;32m    169\u001b[0m     torch_version,\n\u001b[1;32m    170\u001b[0m )\n\u001b[1;32m    173\u001b[0m WEIGHTS_NAME \u001b[39m=\u001b[39m \u001b[39m\"\u001b[39m\u001b[39mpytorch_model.bin\u001b[39m\u001b[39m\"\u001b[39m\n",
      "File \u001b[0;32m~/.local/lib/python3.8/site-packages/transformers/utils/hub.py:32\u001b[0m\n\u001b[1;32m     30\u001b[0m \u001b[39mimport\u001b[39;00m \u001b[39mhuggingface_hub\u001b[39;00m\n\u001b[1;32m     31\u001b[0m \u001b[39mimport\u001b[39;00m \u001b[39mrequests\u001b[39;00m\n\u001b[0;32m---> 32\u001b[0m \u001b[39mfrom\u001b[39;00m \u001b[39mhuggingface_hub\u001b[39;00m \u001b[39mimport\u001b[39;00m (\n\u001b[1;32m     33\u001b[0m     CommitOperationAdd,\n\u001b[1;32m     34\u001b[0m     create_commit,\n\u001b[1;32m     35\u001b[0m     create_repo,\n\u001b[1;32m     36\u001b[0m     get_hf_file_metadata,\n\u001b[1;32m     37\u001b[0m     hf_hub_download,\n\u001b[1;32m     38\u001b[0m     hf_hub_url,\n\u001b[1;32m     39\u001b[0m     whoami,\n\u001b[1;32m     40\u001b[0m )\n\u001b[1;32m     41\u001b[0m \u001b[39mfrom\u001b[39;00m \u001b[39mhuggingface_hub\u001b[39;00m\u001b[39m.\u001b[39;00m\u001b[39mfile_download\u001b[39;00m \u001b[39mimport\u001b[39;00m REGEX_COMMIT_HASH, http_get\n\u001b[1;32m     42\u001b[0m \u001b[39mfrom\u001b[39;00m \u001b[39mhuggingface_hub\u001b[39;00m\u001b[39m.\u001b[39;00m\u001b[39mutils\u001b[39;00m \u001b[39mimport\u001b[39;00m (\n\u001b[1;32m     43\u001b[0m     EntryNotFoundError,\n\u001b[1;32m     44\u001b[0m     LocalEntryNotFoundError,\n\u001b[0;32m   (...)\u001b[0m\n\u001b[1;32m     48\u001b[0m     hf_raise_for_status,\n\u001b[1;32m     49\u001b[0m )\n",
      "File \u001b[0;32m~/.local/lib/python3.8/site-packages/huggingface_hub/__init__.py:311\u001b[0m, in \u001b[0;36m_attach.<locals>.__getattr__\u001b[0;34m(name)\u001b[0m\n\u001b[1;32m    309\u001b[0m \u001b[39melif\u001b[39;00m name \u001b[39min\u001b[39;00m attr_to_modules:\n\u001b[1;32m    310\u001b[0m     submod_path \u001b[39m=\u001b[39m \u001b[39mf\u001b[39m\u001b[39m\"\u001b[39m\u001b[39m{\u001b[39;00mpackage_name\u001b[39m}\u001b[39;00m\u001b[39m.\u001b[39m\u001b[39m{\u001b[39;00mattr_to_modules[name]\u001b[39m}\u001b[39;00m\u001b[39m\"\u001b[39m\n\u001b[0;32m--> 311\u001b[0m     submod \u001b[39m=\u001b[39m importlib\u001b[39m.\u001b[39;49mimport_module(submod_path)\n\u001b[1;32m    312\u001b[0m     attr \u001b[39m=\u001b[39m \u001b[39mgetattr\u001b[39m(submod, name)\n\u001b[1;32m    314\u001b[0m     \u001b[39m# If the attribute lives in a file (module) with the same\u001b[39;00m\n\u001b[1;32m    315\u001b[0m     \u001b[39m# name as the attribute, ensure that the attribute and *not*\u001b[39;00m\n\u001b[1;32m    316\u001b[0m     \u001b[39m# the module is accessible on the package.\u001b[39;00m\n",
      "File \u001b[0;32m/usr/lib/python3.8/importlib/__init__.py:127\u001b[0m, in \u001b[0;36mimport_module\u001b[0;34m(name, package)\u001b[0m\n\u001b[1;32m    125\u001b[0m             \u001b[39mbreak\u001b[39;00m\n\u001b[1;32m    126\u001b[0m         level \u001b[39m+\u001b[39m\u001b[39m=\u001b[39m \u001b[39m1\u001b[39m\n\u001b[0;32m--> 127\u001b[0m \u001b[39mreturn\u001b[39;00m _bootstrap\u001b[39m.\u001b[39;49m_gcd_import(name[level:], package, level)\n",
      "File \u001b[0;32m~/.local/lib/python3.8/site-packages/huggingface_hub/file_download.py:21\u001b[0m\n\u001b[1;32m     18\u001b[0m \u001b[39mfrom\u001b[39;00m \u001b[39murllib\u001b[39;00m\u001b[39m.\u001b[39;00m\u001b[39mparse\u001b[39;00m \u001b[39mimport\u001b[39;00m quote, urlparse\n\u001b[1;32m     20\u001b[0m \u001b[39mimport\u001b[39;00m \u001b[39mrequests\u001b[39;00m\n\u001b[0;32m---> 21\u001b[0m \u001b[39mfrom\u001b[39;00m \u001b[39mfilelock\u001b[39;00m \u001b[39mimport\u001b[39;00m FileLock\n\u001b[1;32m     22\u001b[0m \u001b[39mfrom\u001b[39;00m \u001b[39mrequests\u001b[39;00m\u001b[39m.\u001b[39;00m\u001b[39mexceptions\u001b[39;00m \u001b[39mimport\u001b[39;00m ConnectTimeout, ProxyError\n\u001b[1;32m     24\u001b[0m \u001b[39mfrom\u001b[39;00m \u001b[39mhuggingface_hub\u001b[39;00m \u001b[39mimport\u001b[39;00m constants\n",
      "\u001b[0;31mModuleNotFoundError\u001b[0m: No module named 'filelock'"
     ]
    }
   ],
   "source": [
    "import sys \n",
    "from tqdm import tqdm\n",
    "sys.path.append('..');\n",
    "from model import *\n",
    "\n"
   ]
  },
  {
   "cell_type": "code",
   "execution_count": null,
   "id": "ac7707a4",
   "metadata": {},
   "outputs": [],
   "source": []
  },
  {
   "cell_type": "code",
   "execution_count": 6,
   "id": "420264b9",
   "metadata": {},
   "outputs": [
    {
     "name": "stderr",
     "output_type": "stream",
     "text": [
      "/home/luzhenyu/.local/lib/python3.8/site-packages/whisper/__init__.py:63: UserWarning: /home/luzhenyu/.cache/whisper/base.en.pt exists, but the SHA256 checksum does not match; re-downloading the file\n",
      "  warnings.warn(\n",
      "100%|███████████████████████████████████████| 139M/139M [00:41<00:00, 3.51MiB/s]\n"
     ]
    },
    {
     "name": "stdout",
     "output_type": "stream",
     "text": [
      "\n"
     ]
    }
   ],
   "source": [
    "import clip\n",
    "import torch\n",
    "import torchvision\n",
    "model, preprocess = clip.load(\"ViT-B/32\")\n",
    "model.cuda().eval()\n",
    "\n",
    "import torch\n",
    "import pandas as pd\n",
    "import whisper\n",
    "import torchaudio\n",
    "import pickle\n",
    "import matplotlib.pyplot as plt\n",
    "import numpy as np\n",
    "from collections import defaultdict\n",
    "whisper_model = whisper.load_model(\"base.en\").eval()\n",
    "options = whisper.DecodingOptions(language=\"en\", without_timestamps=True)\n",
    "print()"
   ]
  },
  {
   "cell_type": "code",
   "execution_count": 16,
   "id": "d5a6654c",
   "metadata": {},
   "outputs": [
    {
     "name": "stderr",
     "output_type": "stream",
     "text": [
      "0it [00:00, ?it/s]\n"
     ]
    },
    {
     "ename": "FileNotFoundError",
     "evalue": "[Errno 2] No such file or directory: '/media/exx/HDD/zhenyulu/data/coco/locnarr/coco_val/coco_val_322944_38.ogg_eod49pi.tmp'",
     "output_type": "error",
     "traceback": [
      "\u001b[0;31m---------------------------------------------------------------------------\u001b[0m",
      "\u001b[0;31mFileNotFoundError\u001b[0m                         Traceback (most recent call last)",
      "Cell \u001b[0;32mIn[16], line 20\u001b[0m\n\u001b[1;32m     15\u001b[0m id_to_img_idx \u001b[39m=\u001b[39m \u001b[39mdict\u001b[39m()\n\u001b[1;32m     17\u001b[0m coco_samples_to_eval \u001b[39m=\u001b[39m \u001b[39m1000\u001b[39m\n\u001b[0;32m---> 20\u001b[0m \u001b[39mfor\u001b[39;00m idx, sample \u001b[39min\u001b[39;00m tqdm(\u001b[39menumerate\u001b[39m(locnarr_dataset)): \u001b[39m#could also tqdm over dev_set\u001b[39;00m\n\u001b[1;32m     21\u001b[0m     text \u001b[39m=\u001b[39m sample[\u001b[39m'\u001b[39m\u001b[39mtext\u001b[39m\u001b[39m'\u001b[39m]\n\u001b[1;32m     22\u001b[0m     img \u001b[39m=\u001b[39m sample[\u001b[39m'\u001b[39m\u001b[39mimage\u001b[39m\u001b[39m'\u001b[39m]\n",
      "File \u001b[0;32m~/.local/lib/python3.8/site-packages/tqdm/std.py:1178\u001b[0m, in \u001b[0;36mtqdm.__iter__\u001b[0;34m(self)\u001b[0m\n\u001b[1;32m   1175\u001b[0m time \u001b[39m=\u001b[39m \u001b[39mself\u001b[39m\u001b[39m.\u001b[39m_time\n\u001b[1;32m   1177\u001b[0m \u001b[39mtry\u001b[39;00m:\n\u001b[0;32m-> 1178\u001b[0m     \u001b[39mfor\u001b[39;00m obj \u001b[39min\u001b[39;00m iterable:\n\u001b[1;32m   1179\u001b[0m         \u001b[39myield\u001b[39;00m obj\n\u001b[1;32m   1180\u001b[0m         \u001b[39m# Update and possibly print the progressbar.\u001b[39;00m\n\u001b[1;32m   1181\u001b[0m         \u001b[39m# Note: does not call self.update(1) for speed optimisation.\u001b[39;00m\n",
      "File \u001b[0;32m~/mmml-audio-retrieval/util/datasets.py:30\u001b[0m, in \u001b[0;36mLocNarrDataset.__getitem__\u001b[0;34m(self, idx)\u001b[0m\n\u001b[1;32m     28\u001b[0m to_return \u001b[39m=\u001b[39m \u001b[39mdict\u001b[39m()\n\u001b[1;32m     29\u001b[0m to_return[\u001b[39m'\u001b[39m\u001b[39mtext\u001b[39m\u001b[39m'\u001b[39m] \u001b[39m=\u001b[39m annot\u001b[39m.\u001b[39mcaption\n\u001b[0;32m---> 30\u001b[0m to_return[\u001b[39m'\u001b[39m\u001b[39mwav\u001b[39m\u001b[39m'\u001b[39m] \u001b[39m=\u001b[39m torch\u001b[39m.\u001b[39mtensor(\u001b[39mself\u001b[39;49m\u001b[39m.\u001b[39;49mlocnarr_annot_loader\u001b[39m.\u001b[39;49mget_audioclip(annot\u001b[39m.\u001b[39;49mvoice_recording))\n\u001b[1;32m     31\u001b[0m to_return[\u001b[39m'\u001b[39m\u001b[39mimage\u001b[39m\u001b[39m'\u001b[39m] \u001b[39m=\u001b[39m \u001b[39mself\u001b[39m\u001b[39m.\u001b[39mcoco_dataset[\u001b[39mint\u001b[39m(annot\u001b[39m.\u001b[39mimage_id)]\n\u001b[1;32m     32\u001b[0m to_return[\u001b[39m'\u001b[39m\u001b[39mid\u001b[39m\u001b[39m'\u001b[39m] \u001b[39m=\u001b[39m \u001b[39mint\u001b[39m(annot\u001b[39m.\u001b[39mimage_id)\n",
      "File \u001b[0;32m~/mmml-audio-retrieval/util/localized_narratives.py:199\u001b[0m, in \u001b[0;36mDataLoader.get_audioclip\u001b[0;34m(self, filename)\u001b[0m\n\u001b[1;32m    198\u001b[0m \u001b[39mdef\u001b[39;00m \u001b[39mget_audioclip\u001b[39m(\u001b[39mself\u001b[39m, filename : \u001b[39mstr\u001b[39m):\n\u001b[0;32m--> 199\u001b[0m   \u001b[39mself\u001b[39;49m\u001b[39m.\u001b[39;49m_download_one_audioclip(filename)\n\u001b[1;32m    200\u001b[0m   filepath \u001b[39m=\u001b[39m \u001b[39mself\u001b[39m\u001b[39m.\u001b[39m_local_file(filename)\n\u001b[1;32m    201\u001b[0m   \u001b[39mprint\u001b[39m(filepath)\n",
      "File \u001b[0;32m~/mmml-audio-retrieval/util/localized_narratives.py:196\u001b[0m, in \u001b[0;36mDataLoader._download_one_audioclip\u001b[0;34m(self, filename)\u001b[0m\n\u001b[1;32m    194\u001b[0m \u001b[39mdef\u001b[39;00m \u001b[39m_download_one_audioclip\u001b[39m(\u001b[39mself\u001b[39m, filename : \u001b[39mstr\u001b[39m):\n\u001b[1;32m    195\u001b[0m   \u001b[39mif\u001b[39;00m \u001b[39mnot\u001b[39;00m os\u001b[39m.\u001b[39mpath\u001b[39m.\u001b[39mexists(\u001b[39mself\u001b[39m\u001b[39m.\u001b[39m_local_file(filename)):\n\u001b[0;32m--> 196\u001b[0m     wget\u001b[39m.\u001b[39;49mdownload(\u001b[39mf\u001b[39;49m\u001b[39m'\u001b[39;49m\u001b[39m{\u001b[39;49;00m_RECORDINGS_ROOT_URL\u001b[39m}\u001b[39;49;00m\u001b[39m/\u001b[39;49m\u001b[39m{\u001b[39;49;00mfilename\u001b[39m}\u001b[39;49;00m\u001b[39m'\u001b[39;49m,\n\u001b[1;32m    197\u001b[0m                   \u001b[39mself\u001b[39;49m\u001b[39m.\u001b[39;49m_local_file(filename), bar\u001b[39m=\u001b[39;49m\u001b[39mNone\u001b[39;49;00m)\n",
      "File \u001b[0;32m~/.local/lib/python3.8/site-packages/wget.py:506\u001b[0m, in \u001b[0;36mdownload\u001b[0;34m(url, out, bar)\u001b[0m\n\u001b[1;32m    504\u001b[0m \u001b[39m# get filename for temp file in current directory\u001b[39;00m\n\u001b[1;32m    505\u001b[0m prefix \u001b[39m=\u001b[39m detect_filename(url, out)\n\u001b[0;32m--> 506\u001b[0m (fd, tmpfile) \u001b[39m=\u001b[39m tempfile\u001b[39m.\u001b[39;49mmkstemp(\u001b[39m\"\u001b[39;49m\u001b[39m.tmp\u001b[39;49m\u001b[39m\"\u001b[39;49m, prefix\u001b[39m=\u001b[39;49mprefix, \u001b[39mdir\u001b[39;49m\u001b[39m=\u001b[39;49m\u001b[39m\"\u001b[39;49m\u001b[39m.\u001b[39;49m\u001b[39m\"\u001b[39;49m)\n\u001b[1;32m    507\u001b[0m os\u001b[39m.\u001b[39mclose(fd)\n\u001b[1;32m    508\u001b[0m os\u001b[39m.\u001b[39munlink(tmpfile)\n",
      "File \u001b[0;32m/usr/local/anaconda3/lib/python3.8/tempfile.py:331\u001b[0m, in \u001b[0;36mmkstemp\u001b[0;34m(suffix, prefix, dir, text)\u001b[0m\n\u001b[1;32m    328\u001b[0m \u001b[39melse\u001b[39;00m:\n\u001b[1;32m    329\u001b[0m     flags \u001b[39m=\u001b[39m _bin_openflags\n\u001b[0;32m--> 331\u001b[0m \u001b[39mreturn\u001b[39;00m _mkstemp_inner(\u001b[39mdir\u001b[39;49m, prefix, suffix, flags, output_type)\n",
      "File \u001b[0;32m/usr/local/anaconda3/lib/python3.8/tempfile.py:250\u001b[0m, in \u001b[0;36m_mkstemp_inner\u001b[0;34m(dir, pre, suf, flags, output_type)\u001b[0m\n\u001b[1;32m    248\u001b[0m _sys\u001b[39m.\u001b[39maudit(\u001b[39m\"\u001b[39m\u001b[39mtempfile.mkstemp\u001b[39m\u001b[39m\"\u001b[39m, file)\n\u001b[1;32m    249\u001b[0m \u001b[39mtry\u001b[39;00m:\n\u001b[0;32m--> 250\u001b[0m     fd \u001b[39m=\u001b[39m _os\u001b[39m.\u001b[39;49mopen(file, flags, \u001b[39m0o600\u001b[39;49m)\n\u001b[1;32m    251\u001b[0m \u001b[39mexcept\u001b[39;00m \u001b[39mFileExistsError\u001b[39;00m:\n\u001b[1;32m    252\u001b[0m     \u001b[39mcontinue\u001b[39;00m    \u001b[39m# try again\u001b[39;00m\n",
      "\u001b[0;31mFileNotFoundError\u001b[0m: [Errno 2] No such file or directory: '/media/exx/HDD/zhenyulu/data/coco/locnarr/coco_val/coco_val_322944_38.ogg_eod49pi.tmp'"
     ]
    }
   ],
   "source": [
    "# can avoid running this if results are cached\n",
    "from util.util import wav_to_text, text_to_embed, img_to_embed\n",
    "\n",
    "\n",
    "import matplotlib.pyplot as plt\n",
    "import numpy as np\n",
    "image_feat_list = []\n",
    "text_feat_list = []\n",
    "whisper_text_feat_list = []\n",
    "ids_seen = set()\n",
    "whisper_texts = []\n",
    "true_texts = []\n",
    "img_to_text_idx = defaultdict(lambda : [])\n",
    "text_to_img_idx = defaultdict(lambda : [])\n",
    "id_to_img_idx = dict()\n",
    "\n",
    "coco_samples_to_eval = 1000\n",
    "\n",
    "\n",
    "for idx, sample in tqdm(enumerate(locnarr_dataset)): #could also tqdm over dev_set\n",
    "    text = sample['text']\n",
    "    img = sample['image']\n",
    "    wav = sample['wav']\n",
    "    whisper_text = wav_to_text(wav, whisper_model, options)\n",
    "    text_features = text_to_embed(text, model)\n",
    "    whisper_text_features = text_to_embed(whisper_text, model)\n",
    "    image_features = img_to_embed(img, model, preprocess)\n",
    "    \n",
    "    \n",
    "    text_feat_list  += [text_features[0].tolist()]\n",
    "    whisper_text_feat_list += [whisper_text_features[0].tolist()]\n",
    "    whisper_texts += [whisper_text]\n",
    "    true_texts += [text]\n",
    "    \n",
    "    if sample['id'] not in ids_seen:\n",
    "        image_feat_list += image_features.tolist()\n",
    "        id_to_img_idx[sample['id']] = len(image_feat_list)-1\n",
    "        ids_seen.add(sample['id'])\n",
    "    \n",
    "    cur_image_idx = id_to_img_idx[sample['id']]\n",
    "    cur_text_idx = len(true_texts)-1\n",
    "    \n",
    "    img_to_text_idx[cur_text_idx] += [cur_image_idx]\n",
    "    text_to_img_idx[cur_image_idx] += [cur_text_idx]\n",
    "    if idx == coco_samples_to_eval-1:\n",
    "        break\n",
    "    \n",
    "    \n",
    "results = (image_feat_list, text_feat_list, whisper_text_feat_list, whisper_texts, true_texts,\n",
    "          dict(img_to_text_idx), dict(text_to_img_idx), id_to_img_idx)\n",
    "with open('locnarr_whisper_results_cache.pkl', 'wb') as handle:\n",
    "    pickle.dump(results, handle, protocol=pickle.HIGHEST_PROTOCOL)"
   ]
  },
  {
   "cell_type": "code",
   "execution_count": 8,
   "id": "b8456218",
   "metadata": {},
   "outputs": [],
   "source": [
    "with open('locnarr_whisper_results_cache.pkl', 'rb') as handle:\n",
    "    results = pickle.load(handle)\n",
    "image_feat_list, text_feat_list, whisper_text_feat_list, whisper_texts, true_texts,\\\n",
    "          img_to_text_idx, text_to_img_idx, id_to_img_idx = results"
   ]
  },
  {
   "cell_type": "code",
   "execution_count": null,
   "id": "c339c808",
   "metadata": {},
   "outputs": [],
   "source": []
  },
  {
   "cell_type": "code",
   "execution_count": 9,
   "id": "21f2663b",
   "metadata": {},
   "outputs": [],
   "source": [
    "from torchmetrics.functional import word_error_rate\n",
    "whisper_lower = [text.lower() for text in whisper_texts]\n",
    "true_lower = [text.lower() for text in true_texts]\n",
    "WERs = [float(word_error_rate(whisper_lower[i], true_lower[i])) for i in range(len(whisper_lower))]\n",
    "overall_WER = word_error_rate(whisper_lower, true_lower)"
   ]
  },
  {
   "cell_type": "code",
   "execution_count": 10,
   "id": "0cdbf1ec",
   "metadata": {},
   "outputs": [
    {
     "name": "stdout",
     "output_type": "stream",
     "text": [
      "CLIP base, locnarr:\n",
      "text to image recall\n",
      "recall at level 1: 0.337\n",
      "recall at level 5: 0.633\n",
      "recall at level 10: 0.749\n",
      "image to text recall\n",
      "recall at level 1: 0.42286348501664817\n",
      "recall at level 5: 0.7014428412874584\n",
      "recall at level 10: 0.802441731409545\n"
     ]
    }
   ],
   "source": [
    "from sklearn.neighbors import KDTree\n",
    "def get_recall(source_feat_list, target_feat_list, target_idx_to_source_idx_dict, recall_levels=[1, 5, 10]):\n",
    "    # source_feat_list is the list of embeddings in the query modality\n",
    "    # target_feat_list is the list of embeddings in the target modality\n",
    "    # target_idx_to_source_idx_dict is a dictionary going from an index in target_feat_list to a list of indeces in source_feat_list\n",
    "    # used to determine if a given target is correct for a given source\n",
    "    tree = KDTree(target_feat_list)\n",
    "    idxs = np.array(tree.query(source_feat_list, k=recall_levels[-1])[1])\n",
    "    a = idxs[0]\n",
    "    closest_ids = [[target_idx_to_source_idx_dict[id] for id in idx] for idx in idxs]\n",
    "    recall_avgs = []\n",
    "    recalls = []\n",
    "    for recall_level in recall_levels: \n",
    "        recall_at_level = []\n",
    "        for source_idx in range(len(source_feat_list)):\n",
    "            recalls_list = closest_ids[source_idx] # list of lists\n",
    "            recalls_list = recalls_list[0:recall_level] # shortened to only contain ones for current recall level\n",
    "            recalls_list_flat = []\n",
    "            for a in recalls_list:\n",
    "                recalls_list_flat += a\n",
    "            recall_at_level += [source_idx in recalls_list_flat]\n",
    "        print(f'recall at level {recall_level}: {np.mean(recall_at_level)}')\n",
    "        recall_avgs += [np.mean(recall_at_level)]\n",
    "        recalls += [recall_at_level]\n",
    "    return recalls, recall_avgs\n",
    "\n",
    "print('CLIP base, locnarr:')\n",
    "print('text to image recall')\n",
    "a = get_recall(text_feat_list, image_feat_list, text_to_img_idx)\n",
    "print('image to text recall')\n",
    "a = get_recall(image_feat_list, text_feat_list, img_to_text_idx)"
   ]
  },
  {
   "cell_type": "code",
   "execution_count": 27,
   "id": "d4052c68",
   "metadata": {},
   "outputs": [
    {
     "name": "stdout",
     "output_type": "stream",
     "text": [
      "CLIP with Whisper, locnarr:\n",
      "text to image recall\n",
      "recall at level 1: 0.25\n",
      "recall at level 5: 0.511\n",
      "recall at level 10: 0.638\n",
      "image to text recall\n",
      "recall at level 1: 0.316315205327414\n",
      "recall at level 5: 0.5749167591564928\n",
      "recall at level 10: 0.6870144284128746\n"
     ]
    },
    {
     "data": {
      "image/png": "[encoded data removed]",
      "text/plain": [
       "<Figure size 640x480 with 1 Axes>"
      ]
     },
     "metadata": {},
     "output_type": "display_data"
    }
   ],
   "source": [
    "from sklearn.linear_model import LogisticRegression\n",
    "import matplotlib.pyplot as plt\n",
    "\n",
    "print('CLIP with Whisper, locnarr:')\n",
    "print('text to image recall')\n",
    "a = get_recall(whisper_text_feat_list, image_feat_list, text_to_img_idx)\n",
    "recall_at_5 = a[0][1]\n",
    "print('image to text recall')\n",
    "a = get_recall(image_feat_list, whisper_text_feat_list, img_to_text_idx)\n",
    "\n",
    "plt.scatter(WERs, recall_at_5)\n",
    "x_new = np.linspace(0, 1, 50)\n",
    "logreg_x = np.array(WERs)[:,np.newaxis]\n",
    "logreg_y = np.array(recall_at_5).astype(int)\n",
    "logreg = LogisticRegression()\n",
    "logreg.fit(logreg_x, logreg_y)\n",
    "y_new = logreg.predict_proba(x_new[:,None])\n",
    "plt.plot(x_new, y_new[:,1])\n",
    "plt.xlabel('Per-sample WER')\n",
    "plt.ylabel('Per-sample recall')\n",
    "plt.title('Speech to Image R@5 vs. per-sample WER, Whisper+CLIP, locnarr')\n",
    "plt.show()"
   ]
  },
  {
   "cell_type": "code",
   "execution_count": 26,
   "id": "ce3dc595",
   "metadata": {},
   "outputs": [
    {
     "name": "stdout",
     "output_type": "stream",
     "text": [
      "here we can see every airplane. the turbine trans present and we can see group of people walking and standing with bags in their hand and they are going to the bus present and we are going to the bus present and we are going to the bus present and we are going to the bus present and we are going to the bus present and we are going to the bus present and we are going to the bus present and we are going to the bus present and we are going to the bus present and we are going to the bus present and we are going to the bus present and we are going to the bus present and we are going to the bus present and we are going to the bus present and we are going to the bus present and we are going to the bus present and we are going to the bus present and we are going to the bus present and we are going to the bus present and we are going to the bus present and we are going to the bus present and we are going to the bus present and we are going to the bus present and we are going to the bus present and we are going to the\n"
     ]
    },
    {
     "data": {
      "text/plain": [
       "'here we can see a wing of aeroplane with the turbine fans present and we can see a group of people walking and standing with bags in their hand and they are going to the bus present in front of them'"
      ]
     },
     "execution_count": 26,
     "metadata": {},
     "output_type": "execute_result"
    }
   ],
   "source": [
    "bad_idx = np.argsort(WERs)[-1]\n",
    "print(whisper_lower[bad_idx])\n",
    "true_lower[bad_idx]"
   ]
  },
  {
   "cell_type": "code",
   "execution_count": null,
   "id": "aeac59b0",
   "metadata": {},
   "outputs": [],
   "source": [
    "wav = dev_set[0]['wav']\n",
    "audio = whisper.pad_or_trim(wav.flatten()).cuda()\n",
    "mel = whisper.log_mel_spectrogram(audio)\n",
    "results = model.decode(mel, options)\n",
    "print(results.text)\n",
    "print(dev_set[0]['text'])"
   ]
  }
 ],
 "metadata": {
  "kernelspec": {
   "display_name": "Python 3 (ipykernel)",
   "language": "python",
   "name": "python3"
  },
  "language_info": {
   "codemirror_mode": {
    "name": "ipython",
    "version": 3
   },
   "file_extension": ".py",
   "mimetype": "text/x-python",
   "name": "python",
   "nbconvert_exporter": "python",
   "pygments_lexer": "ipython3",
   "version": "3.8.10"
  }
 },
 "nbformat": 4,
 "nbformat_minor": 5
}
